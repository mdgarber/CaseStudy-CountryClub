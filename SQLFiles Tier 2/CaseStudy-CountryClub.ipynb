{
 "cells": [
  {
   "cell_type": "markdown",
   "id": "b7351ccf-7da7-4007-aab7-21a51fbdb19e",
   "metadata": {},
   "source": [
    "# Case Study - Country Club\n",
    "\n",
    "### PART 2\\: SQLite\n",
    "Export the country club data from PHPMyAdmin, and connect to a local SQLite instance from Jupyter notebook for the following questions.\n",
    "\n",
    "#### QUESTIONS\\:\n",
    "- (Q10) Produce a list of facilities with a total revenue less than 1000. The output of facility name and total revenue, sorted by revenue. Remember that there's a different cost for guests and members!\n",
    "- (Q11) Produce a report of members and who recommended them in alphabetic surname,firstname order\n",
    "- (Q12) Find the facilities with their usage by member, but not guests\n",
    "- (Q13) Find the facilities usage by month, but not guests"
   ]
  },
  {
   "cell_type": "markdown",
   "id": "0871a1e9-f436-4430-a41a-72fb458bbd67",
   "metadata": {},
   "source": [
    "#### Connect to local SQLite instance using script"
   ]
  },
  {
   "cell_type": "code",
   "execution_count": 1,
   "id": "be247526-d24a-4e67-8d08-e343ff03cf74",
   "metadata": {},
   "outputs": [
    {
     "name": "stdout",
     "output_type": "stream",
     "text": [
      "2.6.0\n",
      "2. Query all tasks\n",
      "(0, 'Tennis Court 1', 5, 25, 10000, 200)\n",
      "(1, 'Tennis Court 2', 5, 25, 8000, 200)\n",
      "(2, 'Badminton Court', 0, 15.5, 4000, 50)\n",
      "(3, 'Table Tennis', 0, 5, 320, 10)\n",
      "(4, 'Massage Room 1', 9.9, 80, 4000, 3000)\n",
      "(5, 'Massage Room 2', 9.9, 80, 4000, 3000)\n",
      "(6, 'Squash Court', 3.5, 17.5, 5000, 80)\n",
      "(7, 'Snooker Table', 0, 5, 450, 15)\n",
      "(8, 'Pool Table', 0, 5, 400, 15)\n"
     ]
    }
   ],
   "source": [
    "! python .\\LocalSQLConnection.py"
   ]
  },
  {
   "cell_type": "code",
   "execution_count": 14,
   "id": "55cedf11-300c-4812-9c0e-5b8acc02d50a",
   "metadata": {},
   "outputs": [
    {
     "data": {
      "text/plain": [
       "[(0, 3, 1, '2012-07-03 11:00:00', 2),\n",
       " (1, 4, 1, '2012-07-03 08:00:00', 2),\n",
       " (2, 6, 0, '2012-07-03 18:00:00', 2),\n",
       " (3, 7, 1, '2012-07-03 19:00:00', 2),\n",
       " (4, 8, 1, '2012-07-03 10:00:00', 1),\n",
       " (5, 8, 1, '2012-07-03 15:00:00', 1),\n",
       " (6, 0, 2, '2012-07-04 09:00:00', 3),\n",
       " (7, 0, 2, '2012-07-04 15:00:00', 3),\n",
       " (8, 4, 3, '2012-07-04 13:30:00', 2),\n",
       " (9, 4, 0, '2012-07-04 15:00:00', 2)]"
      ]
     },
     "execution_count": 14,
     "metadata": {},
     "output_type": "execute_result"
    }
   ],
   "source": [
    "#SQLAlchemy keeps throwing errors for everything. Trying SQLite instead...\n",
    "import sqlite3\n",
    "\n",
    "#connect to db\n",
    "conn = sqlite3.connect('sqlite_db_pythonsqlite.db')\n",
    "cursor = conn.cursor()\n",
    "\n",
    "cursor.execute(\"SELECT * FROM Bookings LIMIT 10\")\n",
    "cursor.fetchall()"
   ]
  },
  {
   "cell_type": "code",
   "execution_count": 18,
   "id": "5e3b4015-719b-44a2-a6b6-d618c30e3108",
   "metadata": {},
   "outputs": [
    {
     "data": {
      "text/plain": [
       "[(0, 'Tennis Court 1', 5, 25, 10000, 200),\n",
       " (1, 'Tennis Court 2', 5, 25, 8000, 200),\n",
       " (2, 'Badminton Court', 0, 15.5, 4000, 50),\n",
       " (3, 'Table Tennis', 0, 5, 320, 10),\n",
       " (4, 'Massage Room 1', 9.9, 80, 4000, 3000),\n",
       " (5, 'Massage Room 2', 9.9, 80, 4000, 3000),\n",
       " (6, 'Squash Court', 3.5, 17.5, 5000, 80),\n",
       " (7, 'Snooker Table', 0, 5, 450, 15),\n",
       " (8, 'Pool Table', 0, 5, 400, 15)]"
      ]
     },
     "execution_count": 18,
     "metadata": {},
     "output_type": "execute_result"
    }
   ],
   "source": [
    "# Q10. Produce a list of facilities with a total revenue less than 1000. The output of facility name and total revenue, sorted by revenue. Remember that there's a different cost for guests \n",
    "query = \"SELECT * FROM Facilities WHERE LIMIT 10\"\n",
    "cursor.execute(query)\n",
    "cursor.fetchall()"
   ]
  },
  {
   "cell_type": "code",
   "execution_count": null,
   "id": "bf180d6a-3554-4ee4-983b-3f455beef2fe",
   "metadata": {},
   "outputs": [],
   "source": [
    "#close sqlite connection\n",
    "conn.close()"
   ]
  }
 ],
 "metadata": {
  "kernelspec": {
   "display_name": "Python 3 (ipykernel)",
   "language": "python",
   "name": "python3"
  },
  "language_info": {
   "codemirror_mode": {
    "name": "ipython",
    "version": 3
   },
   "file_extension": ".py",
   "mimetype": "text/x-python",
   "name": "python",
   "nbconvert_exporter": "python",
   "pygments_lexer": "ipython3",
   "version": "3.11.5"
  }
 },
 "nbformat": 4,
 "nbformat_minor": 5
}
