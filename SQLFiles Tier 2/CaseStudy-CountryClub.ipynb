{
 "cells": [
  {
   "cell_type": "markdown",
   "id": "b7351ccf-7da7-4007-aab7-21a51fbdb19e",
   "metadata": {},
   "source": [
    "# Case Study - Country Club\n",
    "\n",
    "### PART 2\\: SQLite\n",
    "Export the country club data from PHPMyAdmin, and connect to a local SQLite instance from Jupyter notebook for the following questions.\n",
    "\n",
    "#### QUESTIONS\\:\n",
    "- (Q10) Produce a list of facilities with a total revenue less than 1000. The output of facility name and total revenue, sorted by revenue. Remember that there's a different cost for guests and members!\n",
    "- (Q11) Produce a report of members and who recommended them in alphabetic surname,firstname order\n",
    "- (Q12) Find the facilities with their usage by member, but not guests\n",
    "- (Q13) Find the facilities usage by month, but not guests"
   ]
  },
  {
   "cell_type": "markdown",
   "id": "0871a1e9-f436-4430-a41a-72fb458bbd67",
   "metadata": {},
   "source": [
    "#### Test local SQLite instance using script"
   ]
  },
  {
   "cell_type": "code",
   "execution_count": 1,
   "id": "be247526-d24a-4e67-8d08-e343ff03cf74",
   "metadata": {},
   "outputs": [
    {
     "name": "stdout",
     "output_type": "stream",
     "text": [
      "2.6.0\n",
      "2. Query all tasks\n",
      "(0, 'Tennis Court 1', 5, 25, 10000, 200)\n",
      "(1, 'Tennis Court 2', 5, 25, 8000, 200)\n",
      "(2, 'Badminton Court', 0, 15.5, 4000, 50)\n",
      "(3, 'Table Tennis', 0, 5, 320, 10)\n",
      "(4, 'Massage Room 1', 9.9, 80, 4000, 3000)\n",
      "(5, 'Massage Room 2', 9.9, 80, 4000, 3000)\n",
      "(6, 'Squash Court', 3.5, 17.5, 5000, 80)\n",
      "(7, 'Snooker Table', 0, 5, 450, 15)\n",
      "(8, 'Pool Table', 0, 5, 400, 15)\n"
     ]
    }
   ],
   "source": [
    "! python .\\LocalSQLConnection.py"
   ]
  },
  {
   "cell_type": "markdown",
   "id": "8f3c9d28-7813-4cc2-b4c8-10fd4ec6148a",
   "metadata": {},
   "source": [
    "#### Connect to local SQLite instance"
   ]
  },
  {
   "cell_type": "code",
   "execution_count": 2,
   "id": "55cedf11-300c-4812-9c0e-5b8acc02d50a",
   "metadata": {},
   "outputs": [
    {
     "data": {
      "text/plain": [
       "[(0, 3, 1, '2012-07-03 11:00:00', 2),\n",
       " (1, 4, 1, '2012-07-03 08:00:00', 2),\n",
       " (2, 6, 0, '2012-07-03 18:00:00', 2),\n",
       " (3, 7, 1, '2012-07-03 19:00:00', 2),\n",
       " (4, 8, 1, '2012-07-03 10:00:00', 1),\n",
       " (5, 8, 1, '2012-07-03 15:00:00', 1),\n",
       " (6, 0, 2, '2012-07-04 09:00:00', 3),\n",
       " (7, 0, 2, '2012-07-04 15:00:00', 3),\n",
       " (8, 4, 3, '2012-07-04 13:30:00', 2),\n",
       " (9, 4, 0, '2012-07-04 15:00:00', 2)]"
      ]
     },
     "execution_count": 2,
     "metadata": {},
     "output_type": "execute_result"
    }
   ],
   "source": [
    "#SQLAlchemy keeps throwing errors for everything. Trying SQLite instead...\n",
    "import sqlite3\n",
    "\n",
    "#connect to db\n",
    "conn = sqlite3.connect('sqlite_db_pythonsqlite.db')\n",
    "cursor = conn.cursor()\n",
    "\n",
    "#test connection with a simple query\n",
    "cursor.execute(\"SELECT * FROM Bookings LIMIT 10\")\n",
    "cursor.fetchall()"
   ]
  },
  {
   "cell_type": "markdown",
   "id": "a040735c-ec40-4bae-b099-b2f14d4acaf5",
   "metadata": {},
   "source": [
    "#### Q10 - Display facilities with total revenue < 1000. Sort by revenue."
   ]
  },
  {
   "cell_type": "code",
   "execution_count": 3,
   "id": "5e3b4015-719b-44a2-a6b6-d618c30e3108",
   "metadata": {},
   "outputs": [
    {
     "data": {
      "text/plain": [
       "[]"
      ]
     },
     "execution_count": 3,
     "metadata": {},
     "output_type": "execute_result"
    }
   ],
   "source": [
    "# Q10. Produce a list of facilities with a total revenue less than 1000. \n",
    "#      The output of facility name and total revenue, sorted by revenue. \n",
    "#      Remember that there's a different cost for guests \n",
    "query = 'SELECT f.name, SUM(membercost) AS MemberRevenue, SUM(guestcost) AS GuestRevenue,  (SUM(membercost) + SUM(guestcost)) AS TOTALRevenue FROM Facilities AS f LEFT JOIN Bookings AS b ON f.facid = b.facid WHERE \"TOTAL Revenue\" < 1000 GROUP BY f.name'\n",
    "cursor.execute(query)\n",
    "cursor.fetchall()\n",
    "\n",
    "#No facilites have less than 1000 revenue from what I can tell\n",
    "#HOW IS TOTAL REVENUE DEFINED??"
   ]
  },
  {
   "cell_type": "markdown",
   "id": "f5a919a8-a29b-4884-81cc-f7ddc6ac9c45",
   "metadata": {},
   "source": [
    "#### Q11 - Display list of members and who recommended them"
   ]
  },
  {
   "cell_type": "code",
   "execution_count": 4,
   "id": "65e6ea1c-2d10-479c-ae0c-29349137141f",
   "metadata": {},
   "outputs": [
    {
     "data": {
      "text/plain": [
       "[('GUEST', 'GUEST', '', None, None),\n",
       " ('Smith', 'Darren', '', None, None),\n",
       " ('Smith', 'Tracy', '', None, None),\n",
       " ('Rownam', 'Tim', '', None, None),\n",
       " ('Tracy', 'Burton', '', None, None),\n",
       " ('Farrell', 'Jemima', '', None, None),\n",
       " ('Farrell', 'David', '', None, None),\n",
       " ('Tupperware', 'Hyacinth', '', None, None),\n",
       " ('Smith', 'Darren', '', None, None),\n",
       " ('Sarwin', 'Ramnaresh', '15', 'Bader', 'Florence'),\n",
       " ('Coplin', 'Joan', '16', 'Baker', 'Timothy'),\n",
       " ('Genting', 'Matthew', '5', 'Butters', 'Gerald'),\n",
       " ('Baker', 'Timothy', '13', 'Farrell', 'Jemima'),\n",
       " ('Pinker', 'David', '13', 'Farrell', 'Jemima'),\n",
       " ('Rumney', 'Henrietta', '20', 'Genting', 'Matthew'),\n",
       " ('Jones', 'Douglas', '11', 'Jones', 'David'),\n",
       " ('Dare', 'Nancy', '4', 'Joplette', 'Janice'),\n",
       " ('Jones', 'David', '4', 'Joplette', 'Janice'),\n",
       " ('Hunt', 'John', '30', 'Purview', 'Millicent'),\n",
       " ('Boothe', 'Tim', '3', 'Rownam', 'Tim'),\n",
       " ('Joplette', 'Janice', '1', 'Smith', 'Darren'),\n",
       " ('Butters', 'Gerald', '1', 'Smith', 'Darren'),\n",
       " ('Owen', 'Charles', '1', 'Smith', 'Darren'),\n",
       " ('Smith', 'Jack', '1', 'Smith', 'Darren'),\n",
       " ('Mackenzie', 'Anna', '1', 'Smith', 'Darren'),\n",
       " ('Worthington-Smyth', 'Henry', '2', 'Smith', 'Tracy'),\n",
       " ('Purview', 'Millicent', '2', 'Smith', 'Tracy'),\n",
       " ('Crumpet', 'Erica', '2', 'Smith', 'Tracy'),\n",
       " ('Baker', 'Anne', '9', 'Stibbons', 'Ponder'),\n",
       " ('Bader', 'Florence', '9', 'Stibbons', 'Ponder'),\n",
       " ('Stibbons', 'Ponder', '6', 'Tracy', 'Burton')]"
      ]
     },
     "execution_count": 4,
     "metadata": {},
     "output_type": "execute_result"
    }
   ],
   "source": [
    "#(Q11) Produce a report of members and who recommended them in alphabetic surname,firstname order\n",
    "query = 'SELECT m.surname, m.firstname, m.recommendedby, rec.surname AS RecommendBySurname, rec.firstname as RecommendByFirstname FROM Members AS m LEFT JOIN Members AS rec ON m.recommendedby = rec.memid ORDER BY RecommendBySurname, RecommendByFirstname'\n",
    "cursor.execute(query)\n",
    "cursor.fetchall()"
   ]
  },
  {
   "cell_type": "markdown",
   "id": "ae75b523-d2c0-4476-9de7-3dad591bfee7",
   "metadata": {},
   "source": [
    "#### (Q12) Find the facilities with their usage by member, but not guests"
   ]
  },
  {
   "cell_type": "code",
   "execution_count": 5,
   "id": "5b6dc65e-1c01-4868-adac-71c9e85564f9",
   "metadata": {},
   "outputs": [
    {
     "data": {
      "text/plain": [
       "[('Bader', 'Florence', 'Table Tennis', '2012-07-05 09:00:00', 2),\n",
       " ('Baker', 'Anne', 'Table Tennis', '2012-07-05 09:00:00', 2),\n",
       " ('Baker', 'Timothy', 'Table Tennis', '2012-07-05 09:00:00', 2),\n",
       " ('Boothe', 'Tim', 'Table Tennis', '2012-07-05 09:00:00', 2),\n",
       " ('Butters', 'Gerald', 'Table Tennis', '2012-07-05 09:00:00', 2),\n",
       " ('Coplin', 'Joan', 'Table Tennis', '2012-07-05 09:00:00', 2),\n",
       " ('Crumpet', 'Erica', 'Table Tennis', '2012-07-05 09:00:00', 2),\n",
       " ('Dare', 'Nancy', 'Table Tennis', '2012-07-05 09:00:00', 2),\n",
       " ('Farrell', 'David', 'Table Tennis', '2012-07-05 09:00:00', 2),\n",
       " ('Farrell', 'Jemima', 'Table Tennis', '2012-07-05 09:00:00', 2),\n",
       " ('Genting', 'Matthew', 'Table Tennis', '2012-07-05 09:00:00', 2),\n",
       " ('Hunt', 'John', 'Table Tennis', '2012-07-05 09:00:00', 2),\n",
       " ('Jones', 'David', 'Table Tennis', '2012-07-05 09:00:00', 2),\n",
       " ('Jones', 'Douglas', 'Table Tennis', '2012-07-05 09:00:00', 2),\n",
       " ('Joplette', 'Janice', 'Table Tennis', '2012-07-05 09:00:00', 2),\n",
       " ('Mackenzie', 'Anna', 'Table Tennis', '2012-07-05 09:00:00', 2),\n",
       " ('Owen', 'Charles', 'Table Tennis', '2012-07-05 09:00:00', 2),\n",
       " ('Pinker', 'David', 'Table Tennis', '2012-07-05 09:00:00', 2),\n",
       " ('Purview', 'Millicent', 'Table Tennis', '2012-07-05 09:00:00', 2),\n",
       " ('Rownam', 'Tim', 'Table Tennis', '2012-07-05 09:00:00', 2),\n",
       " ('Rumney', 'Henrietta', 'Table Tennis', '2012-07-05 09:00:00', 2),\n",
       " ('Sarwin', 'Ramnaresh', 'Table Tennis', '2012-07-05 09:00:00', 2),\n",
       " ('Smith', 'Darren', 'Table Tennis', '2012-07-05 09:00:00', 2),\n",
       " ('Smith', 'Jack', 'Table Tennis', '2012-07-05 09:00:00', 2),\n",
       " ('Smith', 'Tracy', 'Table Tennis', '2012-07-05 09:00:00', 2),\n",
       " ('Stibbons', 'Ponder', 'Table Tennis', '2012-07-05 09:00:00', 2),\n",
       " ('Tracy', 'Burton', 'Table Tennis', '2012-07-05 09:00:00', 2),\n",
       " ('Tupperware', 'Hyacinth', 'Table Tennis', '2012-07-05 09:00:00', 2),\n",
       " ('Worthington-Smyth', 'Henry', 'Table Tennis', '2012-07-05 09:00:00', 2)]"
      ]
     },
     "execution_count": 5,
     "metadata": {},
     "output_type": "execute_result"
    }
   ],
   "source": [
    "#(Q12) \n",
    "query = 'SELECT  m.surname, m.firstname, f.name, b.starttime, b.slots FROM Facilities AS f INNER JOIN Bookings AS b ON f.facid = b.facid INNER JOIN Members AS m ON b.memid = b.facid WHERE m.memid != 0 GROUP BY m.surname, m.firstname'\n",
    "cursor.execute(query)\n",
    "cursor.fetchall()"
   ]
  },
  {
   "cell_type": "markdown",
   "id": "3fed0624-f83e-4758-80bb-665178a7af94",
   "metadata": {},
   "source": [
    "#### (Q13) Find the facilities usage by month, but not guests"
   ]
  },
  {
   "cell_type": "code",
   "execution_count": 6,
   "id": "8101158e-ab07-4012-aca8-a052be2dbad9",
   "metadata": {},
   "outputs": [
    {
     "data": {
      "text/plain": [
       "[('Table Tennis', '07', 1061),\n",
       " ('Tennis Court 1', '08', 2531),\n",
       " ('Tennis Court 1', '09', 3199)]"
      ]
     },
     "execution_count": 6,
     "metadata": {},
     "output_type": "execute_result"
    }
   ],
   "source": [
    "#(Q13)\n",
    "query = 'SELECT f.name, strftime(\"%m\", b.starttime) AS Month, SUM(b.slots) AS TotalSlots FROM Bookings AS b LEFT JOIN Facilities AS f ON f.facid = b.facid INNER JOIN Members AS m ON m.memid = b.memid WHERE m.memid != 0 GROUP BY Month'\n",
    "cursor.execute(query)\n",
    "cursor.fetchall()"
   ]
  },
  {
   "cell_type": "code",
   "execution_count": 7,
   "id": "bf180d6a-3554-4ee4-983b-3f455beef2fe",
   "metadata": {},
   "outputs": [],
   "source": [
    "#close sqlite connection\n",
    "conn.close()"
   ]
  }
 ],
 "metadata": {
  "kernelspec": {
   "display_name": "Python 3 (ipykernel)",
   "language": "python",
   "name": "python3"
  },
  "language_info": {
   "codemirror_mode": {
    "name": "ipython",
    "version": 3
   },
   "file_extension": ".py",
   "mimetype": "text/x-python",
   "name": "python",
   "nbconvert_exporter": "python",
   "pygments_lexer": "ipython3",
   "version": "3.11.5"
  }
 },
 "nbformat": 4,
 "nbformat_minor": 5
}
