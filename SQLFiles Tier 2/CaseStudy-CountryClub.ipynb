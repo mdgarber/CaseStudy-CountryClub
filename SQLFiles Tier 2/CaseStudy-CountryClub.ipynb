{
 "cells": [
  {
   "cell_type": "markdown",
   "id": "b7351ccf-7da7-4007-aab7-21a51fbdb19e",
   "metadata": {},
   "source": [
    "# Case Study - Country Club\n",
    "\n",
    "### PART 2\\: SQLite\n",
    "Export the country club data from PHPMyAdmin, and connect to a local SQLite instance from Jupyter notebook for the following questions.\n",
    "\n",
    "#### QUESTIONS\\:\n",
    "- (Q10) Produce a list of facilities with a total revenue less than 1000. The output of facility name and total revenue, sorted by revenue. Remember that there's a different cost for guests and members!\n",
    "- (Q11) Produce a report of members and who recommended them in alphabetic surname,firstname order\n",
    "- (Q12) Find the facilities with their usage by member, but not guests\n",
    "- (Q13) Find the facilities usage by month, but not guests"
   ]
  },
  {
   "cell_type": "code",
   "execution_count": null,
   "id": "ff5fea8f-e4f5-47f1-b17d-5a744c288bd8",
   "metadata": {},
   "outputs": [],
   "source": []
  }
 ],
 "metadata": {
  "kernelspec": {
   "display_name": "Python 3 (ipykernel)",
   "language": "python",
   "name": "python3"
  },
  "language_info": {
   "codemirror_mode": {
    "name": "ipython",
    "version": 3
   },
   "file_extension": ".py",
   "mimetype": "text/x-python",
   "name": "python",
   "nbconvert_exporter": "python",
   "pygments_lexer": "ipython3",
   "version": "3.11.5"
  }
 },
 "nbformat": 4,
 "nbformat_minor": 5
}
